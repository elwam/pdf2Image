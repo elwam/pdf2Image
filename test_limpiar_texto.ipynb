{
 "cells": [
  {
   "cell_type": "code",
   "execution_count": 1,
   "id": "4dd1ad6d",
   "metadata": {},
   "outputs": [
    {
     "name": "stdout",
     "output_type": "stream",
     "text": [
      "Texto limpio: esto es un texto con espacios extraaaaa\n",
      "Longitud: 39\n"
     ]
    }
   ],
   "source": [
    "import requests\n",
    "\n",
    "# URL del endpoint (ajusta si no está en localhost o en otro puerto)\n",
    "url = \"http://localhost:8000/limpiar-texto\"\n",
    "\n",
    "# Texto que quieres limpiar\n",
    "payload = {\n",
    "    \"texto\": \"   Esto   es   un   texto     con    espacios    extra.\"\n",
    "    \"\"\n",
    "    \"aaaa\"\n",
    "}\n",
    "\n",
    "# Hacer la petición POST\n",
    "response = requests.post(url, json=payload)\n",
    "\n",
    "# Mostrar el resultado\n",
    "if response.status_code == 200:\n",
    "    data = response.json()\n",
    "    print(\"Texto limpio:\", data[\"texto_limpio\"])\n",
    "    print(\"Longitud:\", data[\"longitud\"])\n",
    "else:\n",
    "    print(\"Error:\", response.status_code, response.text)"
   ]
  }
 ],
 "metadata": {
  "kernelspec": {
   "display_name": "pdf2image",
   "language": "python",
   "name": "python3"
  },
  "language_info": {
   "codemirror_mode": {
    "name": "ipython",
    "version": 3
   },
   "file_extension": ".py",
   "mimetype": "text/x-python",
   "name": "python",
   "nbconvert_exporter": "python",
   "pygments_lexer": "ipython3",
   "version": "3.10.18"
  }
 },
 "nbformat": 4,
 "nbformat_minor": 5
}
