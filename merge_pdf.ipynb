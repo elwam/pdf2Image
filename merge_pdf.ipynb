{
 "cells": [
  {
   "cell_type": "code",
   "execution_count": 3,
   "id": "beeb6868",
   "metadata": {},
   "outputs": [
    {
     "name": "stdout",
     "output_type": "stream",
     "text": [
      "HTTP 200 | Páginas unidas: 16\n",
      "Guardado: merged_local.pdf\n"
     ]
    }
   ],
   "source": [
    "# ⚠️ Requiere: pip install requests\n",
    "from pathlib import Path\n",
    "import requests\n",
    "\n",
    "BASE_URL = \"http://localhost:9000\"  # ajusta si usas otro puerto/host\n",
    "PDFS = [\n",
    "    \"FEV_800099860_FEHP755052.pdf\",\n",
    "    \"HAM_800099860_FEHP755052.pdf\",\n",
    "    \"HAU_800099860_FEHP755052.pdf\",\n",
    "    \"HEV_800099860_FEHP755052.pdf\",\n",
    "]\n",
    "\n",
    "# Enviar como multipart/form-data con el mismo nombre de campo: files\n",
    "files = [(\"files\", (Path(p).name, Path(p).read_bytes(), \"application/pdf\")) for p in PDFS]\n",
    "\n",
    "r = requests.post(f\"{BASE_URL}/merge-pdf\", files=files, headers={\"Accept\": \"application/pdf\"}, timeout=300)\n",
    "print(\"HTTP\", r.status_code, \"| Páginas unidas:\", r.headers.get(\"X-Merged-Pages\"))\n",
    "\n",
    "# Guardar el PDF resultante\n",
    "out_path = \"merged_local.pdf\"\n",
    "Path(out_path).write_bytes(r.content)\n",
    "print(\"Guardado:\", out_path)\n"
   ]
  },
  {
   "cell_type": "code",
   "execution_count": 4,
   "id": "aebba066",
   "metadata": {},
   "outputs": [
    {
     "data": {
      "text/html": [
       "\n",
       "        <iframe\n",
       "            width=\"900\"\n",
       "            height=\"600\"\n",
       "            src=\"merged_local.pdf\"\n",
       "            frameborder=\"0\"\n",
       "            allowfullscreen\n",
       "            \n",
       "        ></iframe>\n",
       "        "
      ],
      "text/plain": [
       "<IPython.lib.display.IFrame at 0x29d54a70d60>"
      ]
     },
     "metadata": {},
     "output_type": "display_data"
    }
   ],
   "source": [
    "from IPython.display import IFrame, display\n",
    "display(IFrame(\"merged_local.pdf\", width=900, height=600))\n"
   ]
  }
 ],
 "metadata": {
  "kernelspec": {
   "display_name": "pdf2image",
   "language": "python",
   "name": "python3"
  },
  "language_info": {
   "codemirror_mode": {
    "name": "ipython",
    "version": 3
   },
   "file_extension": ".py",
   "mimetype": "text/x-python",
   "name": "python",
   "nbconvert_exporter": "python",
   "pygments_lexer": "ipython3",
   "version": "3.10.18"
  }
 },
 "nbformat": 4,
 "nbformat_minor": 5
}
