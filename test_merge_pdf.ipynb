{
 "cells": [
  {
   "cell_type": "code",
   "execution_count": 3,
   "id": "beeb6868",
   "metadata": {},
   "outputs": [
    {
     "name": "stdout",
     "output_type": "stream",
     "text": [
      "HTTP 200 | Páginas unidas: 16\n",
      "Guardado: merged_local.pdf\n"
     ]
    }
   ],
   "source": [
    "# ⚠️ Requiere: pip install requests\n",
    "from pathlib import Path\n",
    "import requests\n",
    "\n",
    "BASE_URL = \"http://localhost:9000\"  # ajusta si usas otro puerto/host\n",
    "PDFS = [\n",
    "    \"FEV_800099860_FEHP755052.pdf\",\n",
    "    \"HAM_800099860_FEHP755052.pdf\",\n",
    "    \"HAU_800099860_FEHP755052.pdf\",\n",
    "    \"HEV_800099860_FEHP755052.pdf\",\n",
    "]\n",
    "\n",
    "# Enviar como multipart/form-data con el mismo nombre de campo: files\n",
    "files = [(\"files\", (Path(p).name, Path(p).read_bytes(), \"application/pdf\")) for p in PDFS]\n",
    "\n",
    "r = requests.post(f\"{BASE_URL}/merge-pdf\", files=files, headers={\"Accept\": \"application/pdf\"}, timeout=300)\n",
    "print(\"HTTP\", r.status_code, \"| Páginas unidas:\", r.headers.get(\"X-Merged-Pages\"))\n",
    "\n",
    "# Guardar el PDF resultante\n",
    "out_path = \"merged_local.pdf\"\n",
    "Path(out_path).write_bytes(r.content)\n",
    "print(\"Guardado:\", out_path)\n"
   ]
  },
  {
   "cell_type": "code",
   "execution_count": 2,
   "id": "aebba066",
   "metadata": {},
   "outputs": [
    {
     "name": "stdout",
     "output_type": "stream",
     "text": [
      "→ POST http://localhost:9000/merge-pdf-json  (4 PDFs)\n",
      "HTTP 200\n",
      "✓ Guardado: merged_from_json.pdf\n",
      "✓ Páginas unidas: 16\n"
     ]
    }
   ],
   "source": [
    "# test_merge_json.py\n",
    "from pathlib import Path\n",
    "import base64\n",
    "import requests\n",
    "\n",
    "BASE_URL = \"http://localhost:9000\"   # ajusta si usas otro host/puerto\n",
    "OUT_FILE = \"merged_from_json.pdf\"\n",
    "\n",
    "PDFS = [\n",
    "    \"FEV_800099860_FEHP755052.pdf\",\n",
    "    \"HAM_800099860_FEHP755052.pdf\",\n",
    "    \"HAU_800099860_FEHP755052.pdf\",\n",
    "    \"HEV_800099860_FEHP755052.pdf\",\n",
    "]\n",
    "\n",
    "files = []\n",
    "for p in PDFS:\n",
    "    b = Path(p).read_bytes()\n",
    "    files.append({\n",
    "        \"name\": Path(p).name,\n",
    "        \"data_b64\": base64.b64encode(b).decode(\"ascii\"),\n",
    "        \"mime_type\": \"application/pdf\",\n",
    "    })\n",
    "\n",
    "payload = {\"files\": files}\n",
    "\n",
    "print(f\"→ POST {BASE_URL}/merge-pdf-json  ({len(files)} PDFs)\")\n",
    "r = requests.post(f\"{BASE_URL}/merge-pdf-json\", json=payload, timeout=300)\n",
    "print(\"HTTP\", r.status_code)\n",
    "\n",
    "if r.ok:\n",
    "    Path(OUT_FILE).write_bytes(r.content)\n",
    "    print(\"✓ Guardado:\", OUT_FILE)\n",
    "    print(\"✓ Páginas unidas:\", r.headers.get(\"X-Merged-Pages\"))\n",
    "else:\n",
    "    print(\"ERROR:\\n\", r.text[:2000])\n"
   ]
  }
 ],
 "metadata": {
  "kernelspec": {
   "display_name": "pdf2image",
   "language": "python",
   "name": "python3"
  },
  "language_info": {
   "codemirror_mode": {
    "name": "ipython",
    "version": 3
   },
   "file_extension": ".py",
   "mimetype": "text/x-python",
   "name": "python",
   "nbconvert_exporter": "python",
   "pygments_lexer": "ipython3",
   "version": "3.10.18"
  }
 },
 "nbformat": 4,
 "nbformat_minor": 5
}
