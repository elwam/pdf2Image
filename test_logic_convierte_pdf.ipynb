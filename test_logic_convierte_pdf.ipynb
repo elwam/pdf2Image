{
 "cells": [
  {
   "cell_type": "code",
   "execution_count": 1,
   "id": "3b19e256",
   "metadata": {},
   "outputs": [
    {
     "name": "stdout",
     "output_type": "stream",
     "text": [
      "Librerías importadas correctamente.\n"
     ]
    }
   ],
   "source": [
    "# Celda 1: Importaciones Necesarias\n",
    "import requests\n",
    "import json\n",
    "import os\n",
    "\n",
    "print(\"Librerías importadas correctamente.\")"
   ]
  },
  {
   "cell_type": "code",
   "execution_count": 8,
   "id": "f58a5ecf",
   "metadata": {},
   "outputs": [
    {
     "name": "stdout",
     "output_type": "stream",
     "text": [
      "Endpoint a probar: http://localhost:8000/convert-pdf\n",
      "Archivos PDF que se intentarán probar: ['NAN_FEHP701932.pdf']\n"
     ]
    }
   ],
   "source": [
    "# Celda 2: Configuración Global\n",
    "BASE_URL = \"http://localhost:8000\"  # Asegúrate de que el puerto coincida\n",
    "#BASE_URL = \"https://pdf2image.qaiaanalytics.com\"  # Asegúrate de que el puerto coincida\n",
    "OCR_ENDPOINT_URL = f\"{BASE_URL}/convert-pdf\"\n",
    "\n",
    "# Lista de archivos PDF de prueba (colócalos en el mismo directorio que este notebook)\n",
    "# Puedes añadir más nombres de archivo aquí.\n",
    "PDF_FILENAMES_TO_TEST = [\n",
    "    \"NAN_FEHP701932.pdf\",\n",
    "    # \"otro_documento.pdf\", # Descomenta y añade más PDFs para probar\n",
    "    # \"documento_multiples_paginas.pdf\"\n",
    "]\n",
    "\n",
    "print(f\"Endpoint a probar: {OCR_ENDPOINT_URL}\")\n",
    "print(f\"Archivos PDF que se intentarán probar: {PDF_FILENAMES_TO_TEST}\")"
   ]
  },
  {
   "cell_type": "code",
   "execution_count": 3,
   "id": "6910c843",
   "metadata": {},
   "outputs": [],
   "source": [
    "# Celda 3: Función para Probar el Endpoint /convert-pdf con un Archivo Específico\n",
    "def probar_ocr_de_pdf(pdf_filename: str):\n",
    "    \"\"\"\n",
    "    Sube un archivo PDF al endpoint /convert-pdf y muestra la respuesta.\n",
    "    \"\"\"\n",
    "    print(f\"\\n--- Probando OCR para el archivo: {pdf_filename} ---\")\n",
    "    \n",
    "    pdf_file_path = os.path.join(os.getcwd(), pdf_filename)\n",
    "    \n",
    "    if not os.path.exists(pdf_file_path):\n",
    "        print(f\"  ❌ ERROR: El archivo PDF '{pdf_file_path}' no fue encontrado. Omitiendo esta prueba.\")\n",
    "        return None # Retorna None si el archivo no existe\n",
    "\n",
    "    print(f\"  Ruta completa: {pdf_file_path}\")\n",
    "    \n",
    "    try:\n",
    "        # Abrir el archivo PDF en modo binario para la subida\n",
    "        with open(pdf_file_path, 'rb') as f:\n",
    "            # 'files' es un diccionario donde la clave 'file' debe coincidir\n",
    "            # con el nombre del parámetro File(...) en tu endpoint FastAPI.\n",
    "            # La tupla contiene: (nombre_de_archivo_original, objeto_archivo, tipo_mime)\n",
    "            files_payload = {'file': (pdf_filename, f, 'application/pdf')}\n",
    "            \n",
    "            print(f\"  Enviando solicitud POST a {OCR_ENDPOINT_URL}...\")\n",
    "            response_ocr = requests.post(OCR_ENDPOINT_URL, files=files_payload, timeout=60) # Timeout de 60 segundos\n",
    "            \n",
    "            # Verificar si la solicitud fue exitosa (código 2xx)\n",
    "            response_ocr.raise_for_status() \n",
    "            \n",
    "            # Obtener la respuesta JSON\n",
    "            ocr_data = response_ocr.json()\n",
    "            \n",
    "            print(f\"\\n  [Respuesta de /convert-pdf para '{pdf_filename}' - Éxito (Estado {response_ocr.status_code})]\")\n",
    "            print(  \"  -------------------------------------------------------------------\")\n",
    "\n",
    "            # 'pages' es una LISTA de diccionarios, cada uno representando una página.\n",
    "            lista_de_paginas_info = ocr_data.get('pages', [])\n",
    "\n",
    "            #  Construir el texto completo concatenando el texto de cada página\n",
    "            textos_de_paginas = []\n",
    "            if isinstance(lista_de_paginas_info, list): # Asegurarse de que es una lista\n",
    "                for pagina_info in lista_de_paginas_info:\n",
    "                    if isinstance(pagina_info, dict) and 'text' in pagina_info: # Asegurarse de que es un dict con 'text'\n",
    "                        textos_de_paginas.append(pagina_info.get('text', ''))\n",
    "            # Unir texto de páginas con dos saltos de línea para simular separación de páginas\n",
    "            texto_completo_extraido = \"\\n\\n\".join(textos_de_paginas)\n",
    "            \n",
    "            #  El 'detalle_por_pagina' es directamente la lista_de_paginas_info\n",
    "            detalle_por_pagina = lista_de_paginas_info\n",
    "            # --- FIN DE AJUSTES ---\n",
    "            \n",
    "            print(f\"  Texto Completo OCR (primeros 300 caracteres): ' {texto_completo_extraido[:300].replace('', '  ')}'...\")\n",
    "\n",
    "            \n",
    "            if detalle_por_pagina:\n",
    "                print(f\"\\n  Detalle por página (mostrando hasta 2 páginas):\")\n",
    "                for i, page_data in enumerate(detalle_por_pagina):\n",
    "                    if i < 2: # Limitar la salida\n",
    "                        print(f\"    Página {page_data.get('page')}: '{page_data.get('text', '')[:100].replace('', ' ')}...'\")\n",
    "                    elif i == 2:\n",
    "                        print(f\"    ... y {len(detalle_por_pagina) - 2} página(s) más.\")\n",
    "                        break\n",
    "            else:\n",
    "                print(\"  No se encontró detalle por página o está vacío.\")\n",
    "            \n",
    "            if texto_completo_extraido.strip():\n",
    "                print(\"\\n  ✅ Prueba de OCR Parece Exitosa: Se extrajo texto.\")\n",
    "            else:\n",
    "                print(\"\\n  ⚠️ Prueba de OCR: El endpoint respondió correctamente, pero no se extrajo texto significativo.\")\n",
    "            \n",
    "            return ocr_data # Devuelve los datos para posible uso posterior\n",
    "\n",
    "    except requests.exceptions.Timeout:\n",
    "        print(f\"  [ERROR DE TIMEOUT] La solicitud a {OCR_ENDPOINT_URL} para '{pdf_filename}' tardó demasiado.\")\n",
    "    except requests.exceptions.ConnectionError:\n",
    "        print(f\"  [ERROR DE CONEXIÓN] No se pudo conectar a la API en {BASE_URL}.\")\n",
    "        print(\"  Asegúrate de que el servidor FastAPI (uvicorn) esté ejecutándose.\")\n",
    "    except requests.exceptions.HTTPError as http_err:\n",
    "        print(f\"  [ERROR HTTP: {http_err.response.status_code}] Para '{pdf_filename}'. Respuesta del servidor: {http_err.response.text}\")\n",
    "    except json.JSONDecodeError:\n",
    "        print(f\"  [ERROR DE JSON] La respuesta del servidor para '{pdf_filename}' no es un JSON válido.\")\n",
    "        print(f\"  Respuesta recibida: {response_ocr.text if 'response_ocr' in locals() and response_ocr else 'No response object'}\")\n",
    "    except Exception as e:\n",
    "        print(f\"  [ERROR INESPERADO] Ocurrió un error procesando '{pdf_filename}': {e}\")\n",
    "        import traceback\n",
    "        traceback.print_exc()\n",
    "    return None # Retorna None si hay error"
   ]
  },
  {
   "cell_type": "code",
   "execution_count": 28,
   "id": "80d690f4",
   "metadata": {},
   "outputs": [
    {
     "name": "stdout",
     "output_type": "stream",
     "text": [
      "\n",
      "========== INICIANDO PRUEBAS DEL ENDPOINT /convert-pdf ==========\n",
      "\n",
      "--- Probando OCR para el archivo: NAN_FEHP701932.pdf ---\n",
      "  Ruta completa: c:\\repositorios\\pdf2Image\\NAN_FEHP701932.pdf\n",
      "  Enviando solicitud POST a http://localhost:8000/convert-pdf...\n",
      "\n",
      "  [Respuesta de /convert-pdf para 'NAN_FEHP701932.pdf' - Éxito (Estado 200)]\n",
      "  -------------------------------------------------------------------\n",
      "  Texto Completo OCR (primeros 300 caracteres): '   =     A  N  \n",
      "  \n",
      "  2  S  .  E  .     O  P     A     R  A  F  A     D  E     P  A     O  D     O  \n",
      "  M  A  C  R  O  P  R  O  C  E  S  O     D  E     G  E  S  T  I  O  N     F  I  N  A  N  C  I  E  R  A     F  A  C  -  F  M  -  0  2  0  \n",
      "  \n",
      "  P  R  O  C  E  S  O     D  E     F  A  C  T  U  R  A  C  I  O  N     V  E  R  S  I  O  N  \n",
      "  F  O  R  M  A  T  O     D  E     R  E  C  I  B  I  D  O     U  S  U  A  R  I  O     V  0  O  1  -  2  0  1  7  \n",
      "  \n",
      "  C  e  r  t  i  f  i  c  o     c  o  n     m  i     f  i  r  m  a     q  u  e     r  e  c  i  b  i     a     s  a  t  i  s  f  a  c  c  i  é  n     s  e  r  v  i  c  i  o  s     d  e     l  a     s  i  g  u  i  e  n  t  e     d  e  p  e  n  d  e  n  c  i  a  :  \n",
      "  \n",
      "  F  e  c  h  a     d  e     l  a     p  r  e  s  t  a  c  i  é  n  :     0  2  -  0  5  -  2  0  2  5  \n",
      "  L  A  B  O  R  A  T  O  R  I  O     C  L  I  N  I  C  O     T  E  R  A  P  I  '...\n",
      "\n",
      "  Detalle por página (mostrando hasta 2 páginas):\n",
      "    Página 1: ' =   A N \n",
      " \n",
      " 2 S . E .   O P   A   R A F A   D E   P A   O D   O \n",
      " M A C R O P R O C E S O   D E   G E S T I O N   F I N A N C I E R A   F A C - F M - 0 2 0 \n",
      " \n",
      " P R O C E S O   D E   F A C T U R A C I ...'\n",
      "\n",
      "  ✅ Prueba de OCR Parece Exitosa: Se extrajo texto.\n",
      "\n",
      "========== FIN DE LAS PRUEBAS DEL ENDPOINT /convert-pdf ==========\n",
      "\n",
      "Resumen de Textos Extraídos (si alguno fue exitoso):\n",
      "  Archivo: NAN_FEHP701932.pdf - Texto (primeros 50 chars): ' ...'\n"
     ]
    }
   ],
   "source": [
    "# Celda 4: Ejecutar las Pruebas de OCR para cada Archivo PDF Definido\n",
    "\n",
    "print(\"\\n\" + \"=\"*10 + \" INICIANDO PRUEBAS DEL ENDPOINT /convert-pdf \" + \"=\"*10)\n",
    "\n",
    "resultados_ocr = {} # Diccionario para guardar los resultados si se quieren usar después\n",
    "\n",
    "if not PDF_FILENAMES_TO_TEST:\n",
    "    print(\"No se han definido archivos PDF en 'PDF_FILENAMES_TO_TEST'. Añade nombres de archivo para probar.\")\n",
    "else:\n",
    "    for pdf_file in PDF_FILENAMES_TO_TEST:\n",
    "        resultado = probar_ocr_de_pdf(pdf_file)\n",
    "        if resultado:\n",
    "            resultados_ocr[pdf_file] = resultado # Guardar el resultado si fue exitoso\n",
    "\n",
    "print(\"\\n\" + \"=\"*10 + \" FIN DE LAS PRUEBAS DEL ENDPOINT /convert-pdf \" + \"=\"*10)\n",
    "\n",
    "# Opcional: Mostrar un resumen de los textos extraídos (si se guardaron)\n",
    "if resultados_ocr:\n",
    "    print(\"\\nResumen de Textos Extraídos (si alguno fue exitoso):\")\n",
    "    for filename, data in resultados_ocr.items():\n",
    "        print(f\"  Archivo: {filename} - Texto (primeros 50 chars): '{data.get('texto_completo_ocr', '')[:50].replace('',' ')}...'\")"
   ]
  },
  {
   "cell_type": "code",
   "execution_count": 27,
   "id": "0ffde113",
   "metadata": {},
   "outputs": [
    {
     "name": "stdout",
     "output_type": "stream",
     "text": [
      "  Archivo: NAN_FEHP701932.pdf - Texto (primeros 50 chars): ' ...'\n"
     ]
    }
   ],
   "source": [
    "for filename, data in resultados_ocr.items():\n",
    "        print(f\"  Archivo: {filename} - Texto (primeros 50 chars): '{data.get('texto_completo_ocr', '')[:50].replace('',' ')}...'\")"
   ]
  }
 ],
 "metadata": {
  "kernelspec": {
   "display_name": "pdf2image",
   "language": "python",
   "name": "python3"
  },
  "language_info": {
   "codemirror_mode": {
    "name": "ipython",
    "version": 3
   },
   "file_extension": ".py",
   "mimetype": "text/x-python",
   "name": "python",
   "nbconvert_exporter": "python",
   "pygments_lexer": "ipython3",
   "version": "3.10.18"
  }
 },
 "nbformat": 4,
 "nbformat_minor": 5
}
